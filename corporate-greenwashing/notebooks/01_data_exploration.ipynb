{
 "cells": [
  {
   "cell_type": "code",
   "execution_count": 3,
   "id": "5bfa47cc-eb15-4538-8a6e-4379882ca332",
   "metadata": {},
   "outputs": [],
   "source": [
    "import pandas as pd\n",
    "import matplotlib.pyplot as plt\n",
    "import seaborn as sns"
   ]
  },
  {
   "cell_type": "code",
   "execution_count": 5,
   "id": "62ecf931-562d-44a9-b01c-66a1488932d6",
   "metadata": {},
   "outputs": [
    {
     "data": {
      "text/html": [
       "<div>\n",
       "<style scoped>\n",
       "    .dataframe tbody tr th:only-of-type {\n",
       "        vertical-align: middle;\n",
       "    }\n",
       "\n",
       "    .dataframe tbody tr th {\n",
       "        vertical-align: top;\n",
       "    }\n",
       "\n",
       "    .dataframe thead th {\n",
       "        text-align: right;\n",
       "    }\n",
       "</style>\n",
       "<table border=\"1\" class=\"dataframe\">\n",
       "  <thead>\n",
       "    <tr style=\"text-align: right;\">\n",
       "      <th></th>\n",
       "      <th>ticker</th>\n",
       "      <th>name</th>\n",
       "      <th>currency</th>\n",
       "      <th>exchange</th>\n",
       "      <th>industry</th>\n",
       "      <th>logo</th>\n",
       "      <th>weburl</th>\n",
       "      <th>environment_grade</th>\n",
       "      <th>environment_level</th>\n",
       "      <th>social_grade</th>\n",
       "      <th>...</th>\n",
       "      <th>governance_grade</th>\n",
       "      <th>governance_level</th>\n",
       "      <th>environment_score</th>\n",
       "      <th>social_score</th>\n",
       "      <th>governance_score</th>\n",
       "      <th>total_score</th>\n",
       "      <th>last_processing_date</th>\n",
       "      <th>total_grade</th>\n",
       "      <th>total_level</th>\n",
       "      <th>cik</th>\n",
       "    </tr>\n",
       "  </thead>\n",
       "  <tbody>\n",
       "    <tr>\n",
       "      <th>0</th>\n",
       "      <td>dis</td>\n",
       "      <td>Walt Disney Co</td>\n",
       "      <td>USD</td>\n",
       "      <td>NEW YORK STOCK EXCHANGE, INC.</td>\n",
       "      <td>Media</td>\n",
       "      <td>https://static.finnhub.io/logo/ef50b4a2b263c84...</td>\n",
       "      <td>https://thewaltdisneycompany.com/</td>\n",
       "      <td>A</td>\n",
       "      <td>High</td>\n",
       "      <td>BB</td>\n",
       "      <td>...</td>\n",
       "      <td>BB</td>\n",
       "      <td>Medium</td>\n",
       "      <td>510</td>\n",
       "      <td>316</td>\n",
       "      <td>321</td>\n",
       "      <td>1147</td>\n",
       "      <td>19-04-2022</td>\n",
       "      <td>BBB</td>\n",
       "      <td>High</td>\n",
       "      <td>1744489</td>\n",
       "    </tr>\n",
       "    <tr>\n",
       "      <th>1</th>\n",
       "      <td>gm</td>\n",
       "      <td>General Motors Co</td>\n",
       "      <td>USD</td>\n",
       "      <td>NEW YORK STOCK EXCHANGE, INC.</td>\n",
       "      <td>Automobiles</td>\n",
       "      <td>https://static.finnhub.io/logo/9253db78-80c9-1...</td>\n",
       "      <td>https://www.gm.com/</td>\n",
       "      <td>A</td>\n",
       "      <td>High</td>\n",
       "      <td>BB</td>\n",
       "      <td>...</td>\n",
       "      <td>B</td>\n",
       "      <td>Medium</td>\n",
       "      <td>510</td>\n",
       "      <td>303</td>\n",
       "      <td>255</td>\n",
       "      <td>1068</td>\n",
       "      <td>17-04-2022</td>\n",
       "      <td>BBB</td>\n",
       "      <td>High</td>\n",
       "      <td>1467858</td>\n",
       "    </tr>\n",
       "    <tr>\n",
       "      <th>2</th>\n",
       "      <td>gww</td>\n",
       "      <td>WW Grainger Inc</td>\n",
       "      <td>USD</td>\n",
       "      <td>NEW YORK STOCK EXCHANGE, INC.</td>\n",
       "      <td>Trading Companies and Distributors</td>\n",
       "      <td>https://static.finnhub.io/logo/f153dcda-80eb-1...</td>\n",
       "      <td>https://www.grainger.com/</td>\n",
       "      <td>B</td>\n",
       "      <td>Medium</td>\n",
       "      <td>BB</td>\n",
       "      <td>...</td>\n",
       "      <td>B</td>\n",
       "      <td>Medium</td>\n",
       "      <td>255</td>\n",
       "      <td>385</td>\n",
       "      <td>240</td>\n",
       "      <td>880</td>\n",
       "      <td>19-04-2022</td>\n",
       "      <td>BB</td>\n",
       "      <td>Medium</td>\n",
       "      <td>277135</td>\n",
       "    </tr>\n",
       "    <tr>\n",
       "      <th>3</th>\n",
       "      <td>mhk</td>\n",
       "      <td>Mohawk Industries Inc</td>\n",
       "      <td>USD</td>\n",
       "      <td>NEW YORK STOCK EXCHANGE, INC.</td>\n",
       "      <td>Consumer products</td>\n",
       "      <td>https://static.finnhub.io/logo/26868a62-80ec-1...</td>\n",
       "      <td>https://mohawkind.com/</td>\n",
       "      <td>A</td>\n",
       "      <td>High</td>\n",
       "      <td>B</td>\n",
       "      <td>...</td>\n",
       "      <td>BB</td>\n",
       "      <td>Medium</td>\n",
       "      <td>570</td>\n",
       "      <td>298</td>\n",
       "      <td>303</td>\n",
       "      <td>1171</td>\n",
       "      <td>18-04-2022</td>\n",
       "      <td>BBB</td>\n",
       "      <td>High</td>\n",
       "      <td>851968</td>\n",
       "    </tr>\n",
       "    <tr>\n",
       "      <th>4</th>\n",
       "      <td>lyv</td>\n",
       "      <td>Live Nation Entertainment Inc</td>\n",
       "      <td>USD</td>\n",
       "      <td>NEW YORK STOCK EXCHANGE, INC.</td>\n",
       "      <td>Media</td>\n",
       "      <td>https://static.finnhub.io/logo/1cd144d2-80ec-1...</td>\n",
       "      <td>https://www.livenationentertainment.com/</td>\n",
       "      <td>BBB</td>\n",
       "      <td>High</td>\n",
       "      <td>BB</td>\n",
       "      <td>...</td>\n",
       "      <td>B</td>\n",
       "      <td>Medium</td>\n",
       "      <td>492</td>\n",
       "      <td>310</td>\n",
       "      <td>250</td>\n",
       "      <td>1052</td>\n",
       "      <td>18-04-2022</td>\n",
       "      <td>BBB</td>\n",
       "      <td>High</td>\n",
       "      <td>1335258</td>\n",
       "    </tr>\n",
       "  </tbody>\n",
       "</table>\n",
       "<p>5 rows × 21 columns</p>\n",
       "</div>"
      ],
      "text/plain": [
       "  ticker                           name currency  \\\n",
       "0    dis                 Walt Disney Co      USD   \n",
       "1     gm              General Motors Co      USD   \n",
       "2    gww                WW Grainger Inc      USD   \n",
       "3    mhk          Mohawk Industries Inc      USD   \n",
       "4    lyv  Live Nation Entertainment Inc      USD   \n",
       "\n",
       "                        exchange                            industry  \\\n",
       "0  NEW YORK STOCK EXCHANGE, INC.                               Media   \n",
       "1  NEW YORK STOCK EXCHANGE, INC.                         Automobiles   \n",
       "2  NEW YORK STOCK EXCHANGE, INC.  Trading Companies and Distributors   \n",
       "3  NEW YORK STOCK EXCHANGE, INC.                   Consumer products   \n",
       "4  NEW YORK STOCK EXCHANGE, INC.                               Media   \n",
       "\n",
       "                                                logo  \\\n",
       "0  https://static.finnhub.io/logo/ef50b4a2b263c84...   \n",
       "1  https://static.finnhub.io/logo/9253db78-80c9-1...   \n",
       "2  https://static.finnhub.io/logo/f153dcda-80eb-1...   \n",
       "3  https://static.finnhub.io/logo/26868a62-80ec-1...   \n",
       "4  https://static.finnhub.io/logo/1cd144d2-80ec-1...   \n",
       "\n",
       "                                     weburl environment_grade  \\\n",
       "0         https://thewaltdisneycompany.com/                 A   \n",
       "1                       https://www.gm.com/                 A   \n",
       "2                 https://www.grainger.com/                 B   \n",
       "3                    https://mohawkind.com/                 A   \n",
       "4  https://www.livenationentertainment.com/               BBB   \n",
       "\n",
       "  environment_level social_grade  ... governance_grade governance_level  \\\n",
       "0              High           BB  ...               BB           Medium   \n",
       "1              High           BB  ...                B           Medium   \n",
       "2            Medium           BB  ...                B           Medium   \n",
       "3              High            B  ...               BB           Medium   \n",
       "4              High           BB  ...                B           Medium   \n",
       "\n",
       "  environment_score  social_score  governance_score  total_score  \\\n",
       "0               510           316               321         1147   \n",
       "1               510           303               255         1068   \n",
       "2               255           385               240          880   \n",
       "3               570           298               303         1171   \n",
       "4               492           310               250         1052   \n",
       "\n",
       "   last_processing_date total_grade total_level      cik  \n",
       "0            19-04-2022         BBB        High  1744489  \n",
       "1            17-04-2022         BBB        High  1467858  \n",
       "2            19-04-2022          BB      Medium   277135  \n",
       "3            18-04-2022         BBB        High   851968  \n",
       "4            18-04-2022         BBB        High  1335258  \n",
       "\n",
       "[5 rows x 21 columns]"
      ]
     },
     "execution_count": 5,
     "metadata": {},
     "output_type": "execute_result"
    }
   ],
   "source": [
    "df = pd.read_csv('../data/raw/esg_scores.csv')\n",
    "\n",
    "df.head()"
   ]
  },
  {
   "cell_type": "code",
   "execution_count": 7,
   "id": "f18717f8-7c1a-4582-b7e0-3b1cf9e540f9",
   "metadata": {},
   "outputs": [
    {
     "name": "stdout",
     "output_type": "stream",
     "text": [
      "Rows: 722 Columns: 21\n",
      "\n",
      "Columns:\n",
      " ['ticker', 'name', 'currency', 'exchange', 'industry', 'logo', 'weburl', 'environment_grade', 'environment_level', 'social_grade', 'social_level', 'governance_grade', 'governance_level', 'environment_score', 'social_score', 'governance_score', 'total_score', 'last_processing_date', 'total_grade', 'total_level', 'cik']\n",
      "\n",
      "Data Types:\n",
      "\n",
      "ticker                  object\n",
      "name                    object\n",
      "currency                object\n",
      "exchange                object\n",
      "industry                object\n",
      "logo                    object\n",
      "weburl                  object\n",
      "environment_grade       object\n",
      "environment_level       object\n",
      "social_grade            object\n",
      "social_level            object\n",
      "governance_grade        object\n",
      "governance_level        object\n",
      "environment_score        int64\n",
      "social_score             int64\n",
      "governance_score         int64\n",
      "total_score              int64\n",
      "last_processing_date    object\n",
      "total_grade             object\n",
      "total_level             object\n",
      "cik                      int64\n",
      "dtype: object\n",
      "\n",
      "Missing Values\n",
      "\n",
      "ticker                   0\n",
      "name                     0\n",
      "currency                 0\n",
      "exchange                 0\n",
      "industry                13\n",
      "logo                    20\n",
      "weburl                  16\n",
      "environment_grade        0\n",
      "environment_level        0\n",
      "social_grade             0\n",
      "social_level             0\n",
      "governance_grade         0\n",
      "governance_level         0\n",
      "environment_score        0\n",
      "social_score             0\n",
      "governance_score         0\n",
      "total_score              0\n",
      "last_processing_date     0\n",
      "total_grade              0\n",
      "total_level              0\n",
      "cik                      0\n",
      "dtype: int64\n"
     ]
    }
   ],
   "source": [
    "print(\"Rows:\", df.shape[0], \"Columns:\", df.shape[1])\n",
    "\n",
    "print(\"\\nColumns:\\n\", df.columns.tolist())\n",
    "\n",
    "print(\"\\nData Types:\\n\")\n",
    "print(df.dtypes)\n",
    "\n",
    "print(\"\\nMissing Values\\n\")\n",
    "print(df.isnull().sum())"
   ]
  },
  {
   "cell_type": "code",
   "execution_count": 11,
   "id": "3e18a723-5f13-4648-9b4e-52bfa1196ae0",
   "metadata": {},
   "outputs": [],
   "source": [
    "df.columns = df.columns.str.strip().str.lower().str.replace(' ', '_').str.replace('/', '_')"
   ]
  },
  {
   "cell_type": "code",
   "execution_count": 13,
   "id": "873077e3-c729-44d6-bac1-2eb7a2b1ad9f",
   "metadata": {},
   "outputs": [
    {
     "name": "stdout",
     "output_type": "stream",
     "text": [
      "['ticker', 'name', 'currency', 'exchange', 'industry', 'logo', 'weburl', 'environment_grade', 'environment_level', 'social_grade', 'social_level', 'governance_grade', 'governance_level', 'environment_score', 'social_score', 'governance_score', 'total_score', 'last_processing_date', 'total_grade', 'total_level', 'cik']\n"
     ]
    }
   ],
   "source": [
    "print(df.columns.tolist())"
   ]
  },
  {
   "cell_type": "code",
   "execution_count": 15,
   "id": "9fcaebde-3d2f-4f0f-a214-2f3be2a826ec",
   "metadata": {},
   "outputs": [
    {
     "data": {
      "text/html": [
       "<div>\n",
       "<style scoped>\n",
       "    .dataframe tbody tr th:only-of-type {\n",
       "        vertical-align: middle;\n",
       "    }\n",
       "\n",
       "    .dataframe tbody tr th {\n",
       "        vertical-align: top;\n",
       "    }\n",
       "\n",
       "    .dataframe thead th {\n",
       "        text-align: right;\n",
       "    }\n",
       "</style>\n",
       "<table border=\"1\" class=\"dataframe\">\n",
       "  <thead>\n",
       "    <tr style=\"text-align: right;\">\n",
       "      <th></th>\n",
       "      <th>environment_score</th>\n",
       "      <th>social_score</th>\n",
       "      <th>governance_score</th>\n",
       "      <th>total_score</th>\n",
       "    </tr>\n",
       "  </thead>\n",
       "  <tbody>\n",
       "    <tr>\n",
       "      <th>count</th>\n",
       "      <td>722.000000</td>\n",
       "      <td>722.000000</td>\n",
       "      <td>722.000000</td>\n",
       "      <td>722.000000</td>\n",
       "    </tr>\n",
       "    <tr>\n",
       "      <th>mean</th>\n",
       "      <td>404.806094</td>\n",
       "      <td>292.182825</td>\n",
       "      <td>278.761773</td>\n",
       "      <td>975.750693</td>\n",
       "    </tr>\n",
       "    <tr>\n",
       "      <th>std</th>\n",
       "      <td>145.103870</td>\n",
       "      <td>57.017406</td>\n",
       "      <td>47.031536</td>\n",
       "      <td>218.751796</td>\n",
       "    </tr>\n",
       "    <tr>\n",
       "      <th>min</th>\n",
       "      <td>200.000000</td>\n",
       "      <td>160.000000</td>\n",
       "      <td>75.000000</td>\n",
       "      <td>600.000000</td>\n",
       "    </tr>\n",
       "    <tr>\n",
       "      <th>25%</th>\n",
       "      <td>240.000000</td>\n",
       "      <td>243.000000</td>\n",
       "      <td>235.000000</td>\n",
       "      <td>763.000000</td>\n",
       "    </tr>\n",
       "    <tr>\n",
       "      <th>50%</th>\n",
       "      <td>483.000000</td>\n",
       "      <td>302.000000</td>\n",
       "      <td>300.000000</td>\n",
       "      <td>1046.000000</td>\n",
       "    </tr>\n",
       "    <tr>\n",
       "      <th>75%</th>\n",
       "      <td>518.750000</td>\n",
       "      <td>322.750000</td>\n",
       "      <td>310.000000</td>\n",
       "      <td>1144.000000</td>\n",
       "    </tr>\n",
       "    <tr>\n",
       "      <th>max</th>\n",
       "      <td>719.000000</td>\n",
       "      <td>667.000000</td>\n",
       "      <td>475.000000</td>\n",
       "      <td>1536.000000</td>\n",
       "    </tr>\n",
       "  </tbody>\n",
       "</table>\n",
       "</div>"
      ],
      "text/plain": [
       "       environment_score  social_score  governance_score  total_score\n",
       "count         722.000000    722.000000        722.000000   722.000000\n",
       "mean          404.806094    292.182825        278.761773   975.750693\n",
       "std           145.103870     57.017406         47.031536   218.751796\n",
       "min           200.000000    160.000000         75.000000   600.000000\n",
       "25%           240.000000    243.000000        235.000000   763.000000\n",
       "50%           483.000000    302.000000        300.000000  1046.000000\n",
       "75%           518.750000    322.750000        310.000000  1144.000000\n",
       "max           719.000000    667.000000        475.000000  1536.000000"
      ]
     },
     "execution_count": 15,
     "metadata": {},
     "output_type": "execute_result"
    }
   ],
   "source": [
    "esg_columns = ['environment_score', 'social_score', 'governance_score', 'total_score']\n",
    "df[esg_columns].describe()"
   ]
  },
  {
   "cell_type": "code",
   "execution_count": 17,
   "id": "4a2904b5-2c21-489b-af2b-c96e3949b3f0",
   "metadata": {},
   "outputs": [],
   "source": [
    "df.to_csv('../data/processed/esg_scores_cleaned.csv', index=False)"
   ]
  },
  {
   "cell_type": "code",
   "execution_count": 19,
   "id": "5931f225-adc6-468d-b583-040aa4feadb9",
   "metadata": {},
   "outputs": [
    {
     "data": {
      "text/plain": [
       "<Figure size 800x400 with 0 Axes>"
      ]
     },
     "execution_count": 19,
     "metadata": {},
     "output_type": "execute_result"
    },
    {
     "data": {
      "text/plain": [
       "<Figure size 800x400 with 0 Axes>"
      ]
     },
     "metadata": {},
     "output_type": "display_data"
    }
   ],
   "source": [
    "plt.figure(figsize=(8, 4))"
   ]
  },
  {
   "cell_type": "code",
   "execution_count": 21,
   "id": "149b34f6-f850-4901-a4e8-38b7ad6bfaed",
   "metadata": {},
   "outputs": [
    {
     "data": {
      "text/plain": [
       "<Axes: xlabel='total_score', ylabel='Count'>"
      ]
     },
     "execution_count": 21,
     "metadata": {},
     "output_type": "execute_result"
    },
    {
     "data": {
      "image/png": "[encoded data removed]",
      "text/plain": [
       "<Figure size 640x480 with 1 Axes>"
      ]
     },
     "metadata": {},
     "output_type": "display_data"
    }
   ],
   "source": [
    "sns.histplot(df['total_score'], bins=20, kde=True)"
   ]
  },
  {
   "cell_type": "code",
   "execution_count": 23,
   "id": "c3b112f8-9add-47e0-b72d-91ec6d03624e",
   "metadata": {},
   "outputs": [
    {
     "data": {
      "text/plain": [
       "Text(0.5, 1.0, 'Distribution of Total Scores')"
      ]
     },
     "execution_count": 23,
     "metadata": {},
     "output_type": "execute_result"
    },
    {
     "data": {
      "image/png": "[encoded data removed]",
      "text/plain": [
       "<Figure size 640x480 with 1 Axes>"
      ]
     },
     "metadata": {},
     "output_type": "display_data"
    }
   ],
   "source": [
    "plt.title('Distribution of Total Scores')"
   ]
  },
  {
   "cell_type": "code",
   "execution_count": 25,
   "id": "2b5f77c5-0eec-4b7a-a6f5-96f90747dd6c",
   "metadata": {},
   "outputs": [
    {
     "data": {
      "image/png": "[encoded data removed]",
      "text/plain": [
       "<Figure size 800x400 with 1 Axes>"
      ]
     },
     "metadata": {},
     "output_type": "display_data"
    }
   ],
   "source": [
    "plt.figure(figsize=(8, 4))\n",
    "\n",
    "sns.histplot(df['total_score'], bins=20, kde=True)\n",
    "\n",
    "plt.title('Distribution of Total ESG Scores')\n",
    "plt.xlabel('Total ESG Scores')\n",
    "plt.ylabel('Number of Companies')\n",
    "plt.tight_layout()\n",
    "plt.savefig('../visuals/total_score_distributions.png', dpi=300)\n",
    "plt.show()\n"
   ]
  },
  {
   "cell_type": "code",
   "execution_count": null,
   "id": "8b6ed1cf-5a3d-4f14-b1a4-d763acae6386",
   "metadata": {},
   "outputs": [],
   "source": []
  }
 ],
 "metadata": {
  "kernelspec": {
   "display_name": "Python [conda env:base] *",
   "language": "python",
   "name": "conda-base-py"
  },
  "language_info": {
   "codemirror_mode": {
    "name": "ipython",
    "version": 3
   },
   "file_extension": ".py",
   "mimetype": "text/x-python",
   "name": "python",
   "nbconvert_exporter": "python",
   "pygments_lexer": "ipython3",
   "version": "3.12.7"
  }
 },
 "nbformat": 4,
 "nbformat_minor": 5
}
