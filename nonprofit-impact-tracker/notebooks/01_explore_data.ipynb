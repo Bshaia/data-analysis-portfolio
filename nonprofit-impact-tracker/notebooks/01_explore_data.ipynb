{
 "cells": [
  {
   "cell_type": "code",
   "execution_count": 1,
   "id": "7765c95a-d3f5-4ce8-83cd-b8e4ef069477",
   "metadata": {},
   "outputs": [],
   "source": [
    "import pandas as pd"
   ]
  },
  {
   "cell_type": "code",
   "execution_count": 3,
   "id": "97b3b08d-1b0f-47b2-8956-1f0c6133fa7c",
   "metadata": {},
   "outputs": [],
   "source": [
    "donors = pd.read_csv(\"../data/donors.csv\")\n",
    "donations = pd.read_csv(\"../data/donations.csv\")"
   ]
  },
  {
   "cell_type": "code",
   "execution_count": 5,
   "id": "a44d75f8-5c34-4e87-a796-6e326c88fa78",
   "metadata": {},
   "outputs": [
    {
     "name": "stdout",
     "output_type": "stream",
     "text": [
      "Donors:\n"
     ]
    },
    {
     "data": {
      "text/html": [
       "<div>\n",
       "<style scoped>\n",
       "    .dataframe tbody tr th:only-of-type {\n",
       "        vertical-align: middle;\n",
       "    }\n",
       "\n",
       "    .dataframe tbody tr th {\n",
       "        vertical-align: top;\n",
       "    }\n",
       "\n",
       "    .dataframe thead th {\n",
       "        text-align: right;\n",
       "    }\n",
       "</style>\n",
       "<table border=\"1\" class=\"dataframe\">\n",
       "  <thead>\n",
       "    <tr style=\"text-align: right;\">\n",
       "      <th></th>\n",
       "      <th>donor_id</th>\n",
       "      <th>name</th>\n",
       "      <th>email</th>\n",
       "      <th>join_date</th>\n",
       "    </tr>\n",
       "  </thead>\n",
       "  <tbody>\n",
       "    <tr>\n",
       "      <th>0</th>\n",
       "      <td>1</td>\n",
       "      <td>Maureen West</td>\n",
       "      <td>lsmith@example.net</td>\n",
       "      <td>2023-04-13</td>\n",
       "    </tr>\n",
       "    <tr>\n",
       "      <th>1</th>\n",
       "      <td>2</td>\n",
       "      <td>Laurie Nelson</td>\n",
       "      <td>toddhaynes@example.org</td>\n",
       "      <td>2022-06-22</td>\n",
       "    </tr>\n",
       "    <tr>\n",
       "      <th>2</th>\n",
       "      <td>3</td>\n",
       "      <td>Taylor Walker</td>\n",
       "      <td>bmartin@example.net</td>\n",
       "      <td>2020-07-30</td>\n",
       "    </tr>\n",
       "    <tr>\n",
       "      <th>3</th>\n",
       "      <td>4</td>\n",
       "      <td>Jay Barnes</td>\n",
       "      <td>michellebennett@example.net</td>\n",
       "      <td>2020-12-23</td>\n",
       "    </tr>\n",
       "    <tr>\n",
       "      <th>4</th>\n",
       "      <td>5</td>\n",
       "      <td>Kayla Sanchez</td>\n",
       "      <td>deanmurphy@example.net</td>\n",
       "      <td>2020-08-02</td>\n",
       "    </tr>\n",
       "  </tbody>\n",
       "</table>\n",
       "</div>"
      ],
      "text/plain": [
       "   donor_id           name                        email   join_date\n",
       "0         1   Maureen West           lsmith@example.net  2023-04-13\n",
       "1         2  Laurie Nelson       toddhaynes@example.org  2022-06-22\n",
       "2         3  Taylor Walker          bmartin@example.net  2020-07-30\n",
       "3         4     Jay Barnes  michellebennett@example.net  2020-12-23\n",
       "4         5  Kayla Sanchez       deanmurphy@example.net  2020-08-02"
      ]
     },
     "metadata": {},
     "output_type": "display_data"
    }
   ],
   "source": [
    "print(\"Donors:\")\n",
    "display(donors.head())"
   ]
  },
  {
   "cell_type": "code",
   "execution_count": 7,
   "id": "e552a71e-0e25-4a28-9c3d-9bcbdb1870c8",
   "metadata": {},
   "outputs": [
    {
     "name": "stdout",
     "output_type": "stream",
     "text": [
      "Donations:\n"
     ]
    },
    {
     "data": {
      "text/html": [
       "<div>\n",
       "<style scoped>\n",
       "    .dataframe tbody tr th:only-of-type {\n",
       "        vertical-align: middle;\n",
       "    }\n",
       "\n",
       "    .dataframe tbody tr th {\n",
       "        vertical-align: top;\n",
       "    }\n",
       "\n",
       "    .dataframe thead th {\n",
       "        text-align: right;\n",
       "    }\n",
       "</style>\n",
       "<table border=\"1\" class=\"dataframe\">\n",
       "  <thead>\n",
       "    <tr style=\"text-align: right;\">\n",
       "      <th></th>\n",
       "      <th>donor_id</th>\n",
       "      <th>donation_date</th>\n",
       "      <th>amount</th>\n",
       "    </tr>\n",
       "  </thead>\n",
       "  <tbody>\n",
       "    <tr>\n",
       "      <th>0</th>\n",
       "      <td>240</td>\n",
       "      <td>2022-09-03</td>\n",
       "      <td>37.40</td>\n",
       "    </tr>\n",
       "    <tr>\n",
       "      <th>1</th>\n",
       "      <td>90</td>\n",
       "      <td>2023-07-02</td>\n",
       "      <td>495.15</td>\n",
       "    </tr>\n",
       "    <tr>\n",
       "      <th>2</th>\n",
       "      <td>277</td>\n",
       "      <td>2023-05-17</td>\n",
       "      <td>830.15</td>\n",
       "    </tr>\n",
       "    <tr>\n",
       "      <th>3</th>\n",
       "      <td>13</td>\n",
       "      <td>2025-03-24</td>\n",
       "      <td>962.48</td>\n",
       "    </tr>\n",
       "    <tr>\n",
       "      <th>4</th>\n",
       "      <td>137</td>\n",
       "      <td>2025-02-13</td>\n",
       "      <td>521.72</td>\n",
       "    </tr>\n",
       "  </tbody>\n",
       "</table>\n",
       "</div>"
      ],
      "text/plain": [
       "   donor_id donation_date  amount\n",
       "0       240    2022-09-03   37.40\n",
       "1        90    2023-07-02  495.15\n",
       "2       277    2023-05-17  830.15\n",
       "3        13    2025-03-24  962.48\n",
       "4       137    2025-02-13  521.72"
      ]
     },
     "metadata": {},
     "output_type": "display_data"
    }
   ],
   "source": [
    "print(\"Donations:\")\n",
    "display(donations.head())"
   ]
  },
  {
   "cell_type": "code",
   "execution_count": 9,
   "id": "0dbe82cd-6e8b-4d39-bb28-fe21f3c41e21",
   "metadata": {},
   "outputs": [
    {
     "name": "stdout",
     "output_type": "stream",
     "text": [
      "<class 'pandas.core.frame.DataFrame'>\n",
      "RangeIndex: 300 entries, 0 to 299\n",
      "Data columns (total 4 columns):\n",
      " #   Column     Non-Null Count  Dtype \n",
      "---  ------     --------------  ----- \n",
      " 0   donor_id   300 non-null    int64 \n",
      " 1   name       300 non-null    object\n",
      " 2   email      300 non-null    object\n",
      " 3   join_date  300 non-null    object\n",
      "dtypes: int64(1), object(3)\n",
      "memory usage: 9.5+ KB\n",
      "<class 'pandas.core.frame.DataFrame'>\n",
      "RangeIndex: 1200 entries, 0 to 1199\n",
      "Data columns (total 3 columns):\n",
      " #   Column         Non-Null Count  Dtype  \n",
      "---  ------         --------------  -----  \n",
      " 0   donor_id       1200 non-null   int64  \n",
      " 1   donation_date  1200 non-null   object \n",
      " 2   amount         1200 non-null   float64\n",
      "dtypes: float64(1), int64(1), object(1)\n",
      "memory usage: 28.3+ KB\n"
     ]
    }
   ],
   "source": [
    "donors.info()\n",
    "donations.info()"
   ]
  },
  {
   "cell_type": "code",
   "execution_count": 11,
   "id": "8e3fc08b-ba5e-4875-9851-524e402e9552",
   "metadata": {},
   "outputs": [
    {
     "data": {
      "text/html": [
       "<div>\n",
       "<style scoped>\n",
       "    .dataframe tbody tr th:only-of-type {\n",
       "        vertical-align: middle;\n",
       "    }\n",
       "\n",
       "    .dataframe tbody tr th {\n",
       "        vertical-align: top;\n",
       "    }\n",
       "\n",
       "    .dataframe thead th {\n",
       "        text-align: right;\n",
       "    }\n",
       "</style>\n",
       "<table border=\"1\" class=\"dataframe\">\n",
       "  <thead>\n",
       "    <tr style=\"text-align: right;\">\n",
       "      <th></th>\n",
       "      <th>donor_id</th>\n",
       "      <th>amount</th>\n",
       "    </tr>\n",
       "  </thead>\n",
       "  <tbody>\n",
       "    <tr>\n",
       "      <th>count</th>\n",
       "      <td>1200.000000</td>\n",
       "      <td>1200.000000</td>\n",
       "    </tr>\n",
       "    <tr>\n",
       "      <th>mean</th>\n",
       "      <td>153.646667</td>\n",
       "      <td>517.263417</td>\n",
       "    </tr>\n",
       "    <tr>\n",
       "      <th>std</th>\n",
       "      <td>85.816600</td>\n",
       "      <td>285.940605</td>\n",
       "    </tr>\n",
       "    <tr>\n",
       "      <th>min</th>\n",
       "      <td>1.000000</td>\n",
       "      <td>10.200000</td>\n",
       "    </tr>\n",
       "    <tr>\n",
       "      <th>25%</th>\n",
       "      <td>80.000000</td>\n",
       "      <td>263.692500</td>\n",
       "    </tr>\n",
       "    <tr>\n",
       "      <th>50%</th>\n",
       "      <td>156.000000</td>\n",
       "      <td>533.185000</td>\n",
       "    </tr>\n",
       "    <tr>\n",
       "      <th>75%</th>\n",
       "      <td>226.000000</td>\n",
       "      <td>776.467500</td>\n",
       "    </tr>\n",
       "    <tr>\n",
       "      <th>max</th>\n",
       "      <td>300.000000</td>\n",
       "      <td>999.580000</td>\n",
       "    </tr>\n",
       "  </tbody>\n",
       "</table>\n",
       "</div>"
      ],
      "text/plain": [
       "          donor_id       amount\n",
       "count  1200.000000  1200.000000\n",
       "mean    153.646667   517.263417\n",
       "std      85.816600   285.940605\n",
       "min       1.000000    10.200000\n",
       "25%      80.000000   263.692500\n",
       "50%     156.000000   533.185000\n",
       "75%     226.000000   776.467500\n",
       "max     300.000000   999.580000"
      ]
     },
     "execution_count": 11,
     "metadata": {},
     "output_type": "execute_result"
    }
   ],
   "source": [
    "donations.describe()"
   ]
  },
  {
   "cell_type": "code",
   "execution_count": 13,
   "id": "9a27e6c6-090f-4a7f-a23f-17c30bb47faf",
   "metadata": {},
   "outputs": [
    {
     "data": {
      "text/plain": [
       "donor_id         0\n",
       "donation_date    0\n",
       "amount           0\n",
       "dtype: int64"
      ]
     },
     "execution_count": 13,
     "metadata": {},
     "output_type": "execute_result"
    }
   ],
   "source": [
    "donors.isnull().sum()\n",
    "donations.isnull().sum()"
   ]
  },
  {
   "cell_type": "code",
   "execution_count": 15,
   "id": "57d89b9f-0342-412d-bb00-349e8d22ceee",
   "metadata": {},
   "outputs": [
    {
     "data": {
      "text/plain": [
       "297"
      ]
     },
     "execution_count": 15,
     "metadata": {},
     "output_type": "execute_result"
    }
   ],
   "source": [
    "donors['donor_id'].nunique()\n",
    "donations['donor_id'].nunique()"
   ]
  },
  {
   "cell_type": "code",
   "execution_count": 17,
   "id": "7374305a-5ac8-4c65-a730-e12091aea1b0",
   "metadata": {},
   "outputs": [
    {
     "data": {
      "text/plain": [
       "donor_id\n",
       "197    11\n",
       "200    11\n",
       "138    10\n",
       "98      9\n",
       "247     9\n",
       "Name: count, dtype: int64"
      ]
     },
     "execution_count": 17,
     "metadata": {},
     "output_type": "execute_result"
    }
   ],
   "source": [
    "donations['donor_id'].value_counts().head()"
   ]
  },
  {
   "cell_type": "code",
   "execution_count": 19,
   "id": "ff9253ae-54ed-4a5b-b4c8-934e88cd0cfd",
   "metadata": {},
   "outputs": [],
   "source": [
    "donors['join_date'] = pd.to_datetime(donors['join_date'])\n",
    "donations['donation_date'] = pd.to_datetime(donations['donation_date'])"
   ]
  },
  {
   "cell_type": "code",
   "execution_count": 21,
   "id": "bac9adbe-93c2-4989-819d-4ecc82010e5c",
   "metadata": {},
   "outputs": [
    {
     "data": {
      "text/html": [
       "<div>\n",
       "<style scoped>\n",
       "    .dataframe tbody tr th:only-of-type {\n",
       "        vertical-align: middle;\n",
       "    }\n",
       "\n",
       "    .dataframe tbody tr th {\n",
       "        vertical-align: top;\n",
       "    }\n",
       "\n",
       "    .dataframe thead th {\n",
       "        text-align: right;\n",
       "    }\n",
       "</style>\n",
       "<table border=\"1\" class=\"dataframe\">\n",
       "  <thead>\n",
       "    <tr style=\"text-align: right;\">\n",
       "      <th></th>\n",
       "      <th>donor_id</th>\n",
       "      <th>donation_date</th>\n",
       "      <th>amount</th>\n",
       "      <th>name</th>\n",
       "      <th>email</th>\n",
       "      <th>join_date</th>\n",
       "    </tr>\n",
       "  </thead>\n",
       "  <tbody>\n",
       "    <tr>\n",
       "      <th>0</th>\n",
       "      <td>240</td>\n",
       "      <td>2022-09-03</td>\n",
       "      <td>37.40</td>\n",
       "      <td>Kathleen Green</td>\n",
       "      <td>tyronemiller@example.org</td>\n",
       "      <td>2022-04-30</td>\n",
       "    </tr>\n",
       "    <tr>\n",
       "      <th>1</th>\n",
       "      <td>90</td>\n",
       "      <td>2023-07-02</td>\n",
       "      <td>495.15</td>\n",
       "      <td>Jeffrey Palmer</td>\n",
       "      <td>hallhunter@example.net</td>\n",
       "      <td>2023-03-18</td>\n",
       "    </tr>\n",
       "    <tr>\n",
       "      <th>2</th>\n",
       "      <td>277</td>\n",
       "      <td>2023-05-17</td>\n",
       "      <td>830.15</td>\n",
       "      <td>Jennifer Parker</td>\n",
       "      <td>pattersonjoshua@example.com</td>\n",
       "      <td>2022-06-09</td>\n",
       "    </tr>\n",
       "    <tr>\n",
       "      <th>3</th>\n",
       "      <td>13</td>\n",
       "      <td>2025-03-24</td>\n",
       "      <td>962.48</td>\n",
       "      <td>Alexander Blevins</td>\n",
       "      <td>wrightsheila@example.org</td>\n",
       "      <td>2021-11-16</td>\n",
       "    </tr>\n",
       "    <tr>\n",
       "      <th>4</th>\n",
       "      <td>137</td>\n",
       "      <td>2025-02-13</td>\n",
       "      <td>521.72</td>\n",
       "      <td>Margaret Harper</td>\n",
       "      <td>ekidd@example.org</td>\n",
       "      <td>2024-07-20</td>\n",
       "    </tr>\n",
       "  </tbody>\n",
       "</table>\n",
       "</div>"
      ],
      "text/plain": [
       "   donor_id donation_date  amount               name  \\\n",
       "0       240    2022-09-03   37.40     Kathleen Green   \n",
       "1        90    2023-07-02  495.15     Jeffrey Palmer   \n",
       "2       277    2023-05-17  830.15    Jennifer Parker   \n",
       "3        13    2025-03-24  962.48  Alexander Blevins   \n",
       "4       137    2025-02-13  521.72    Margaret Harper   \n",
       "\n",
       "                         email  join_date  \n",
       "0     tyronemiller@example.org 2022-04-30  \n",
       "1       hallhunter@example.net 2023-03-18  \n",
       "2  pattersonjoshua@example.com 2022-06-09  \n",
       "3     wrightsheila@example.org 2021-11-16  \n",
       "4            ekidd@example.org 2024-07-20  "
      ]
     },
     "execution_count": 21,
     "metadata": {},
     "output_type": "execute_result"
    }
   ],
   "source": [
    "merge = pd.merge(donations, donors, on='donor_id', how='left')\n",
    "merge.head()"
   ]
  },
  {
   "cell_type": "code",
   "execution_count": 25,
   "id": "ed60bbb7-6651-4750-acc7-9cec81e9f700",
   "metadata": {},
   "outputs": [],
   "source": [
    "merged_data = pd.merge(donors, donations, on='donor_id', how='inner')"
   ]
  },
  {
   "cell_type": "code",
   "execution_count": 27,
   "id": "49e67429-d3e0-4bed-9b4c-fa2bbcc43bec",
   "metadata": {},
   "outputs": [],
   "source": [
    "total_donations = merged_data.groupby('donor_id')['amount'].sum().reset_index()"
   ]
  },
  {
   "cell_type": "code",
   "execution_count": 29,
   "id": "bf3f6a01-4ea2-4051-a2a4-e0ac291924be",
   "metadata": {},
   "outputs": [],
   "source": [
    "total_donations = total_donations.sort_values(by='amount', ascending=False)"
   ]
  },
  {
   "cell_type": "code",
   "execution_count": 31,
   "id": "24599f1c-393e-40cc-98de-797c82f4be13",
   "metadata": {},
   "outputs": [],
   "source": [
    "total_donations = total_donations.merge(donors[['donor_id', 'name', 'email']], on='donor_id')"
   ]
  },
  {
   "cell_type": "code",
   "execution_count": 33,
   "id": "d7b3b1bc-78d9-4c75-b7f2-c7ce3ba0b403",
   "metadata": {},
   "outputs": [
    {
     "data": {
      "text/html": [
       "<div>\n",
       "<style scoped>\n",
       "    .dataframe tbody tr th:only-of-type {\n",
       "        vertical-align: middle;\n",
       "    }\n",
       "\n",
       "    .dataframe tbody tr th {\n",
       "        vertical-align: top;\n",
       "    }\n",
       "\n",
       "    .dataframe thead th {\n",
       "        text-align: right;\n",
       "    }\n",
       "</style>\n",
       "<table border=\"1\" class=\"dataframe\">\n",
       "  <thead>\n",
       "    <tr style=\"text-align: right;\">\n",
       "      <th></th>\n",
       "      <th>donor_id</th>\n",
       "      <th>amount</th>\n",
       "      <th>name</th>\n",
       "      <th>email</th>\n",
       "    </tr>\n",
       "  </thead>\n",
       "  <tbody>\n",
       "    <tr>\n",
       "      <th>0</th>\n",
       "      <td>200</td>\n",
       "      <td>6831.49</td>\n",
       "      <td>Joseph Carpenter</td>\n",
       "      <td>halenatasha@example.net</td>\n",
       "    </tr>\n",
       "    <tr>\n",
       "      <th>1</th>\n",
       "      <td>197</td>\n",
       "      <td>6002.33</td>\n",
       "      <td>William Davila</td>\n",
       "      <td>lewisguy@example.org</td>\n",
       "    </tr>\n",
       "    <tr>\n",
       "      <th>2</th>\n",
       "      <td>138</td>\n",
       "      <td>5746.07</td>\n",
       "      <td>Arthur Espinoza</td>\n",
       "      <td>scott42@example.net</td>\n",
       "    </tr>\n",
       "    <tr>\n",
       "      <th>3</th>\n",
       "      <td>136</td>\n",
       "      <td>5399.22</td>\n",
       "      <td>Michael Scott</td>\n",
       "      <td>meyerjoseph@example.org</td>\n",
       "    </tr>\n",
       "    <tr>\n",
       "      <th>4</th>\n",
       "      <td>247</td>\n",
       "      <td>5192.93</td>\n",
       "      <td>Nicole Richard</td>\n",
       "      <td>timothy25@example.org</td>\n",
       "    </tr>\n",
       "  </tbody>\n",
       "</table>\n",
       "</div>"
      ],
      "text/plain": [
       "   donor_id   amount              name                    email\n",
       "0       200  6831.49  Joseph Carpenter  halenatasha@example.net\n",
       "1       197  6002.33    William Davila     lewisguy@example.org\n",
       "2       138  5746.07   Arthur Espinoza      scott42@example.net\n",
       "3       136  5399.22     Michael Scott  meyerjoseph@example.org\n",
       "4       247  5192.93    Nicole Richard    timothy25@example.org"
      ]
     },
     "execution_count": 33,
     "metadata": {},
     "output_type": "execute_result"
    }
   ],
   "source": [
    "total_donations.head()"
   ]
  },
  {
   "cell_type": "code",
   "execution_count": 35,
   "id": "a988785f-7c28-4d41-84bc-5f4ce72178d0",
   "metadata": {},
   "outputs": [],
   "source": [
    "import matplotlib.pyplot as plt"
   ]
  },
  {
   "cell_type": "code",
   "execution_count": 37,
   "id": "a32271e4-a847-4f88-a22e-f34df5bb1b28",
   "metadata": {},
   "outputs": [],
   "source": [
    "top_donors = total_donations.sort_values(by='amount', ascending=False).head(10)"
   ]
  },
  {
   "cell_type": "code",
   "execution_count": null,
   "id": "ccdc46aa-25b0-4ba8-b648-d915d71b9bcd",
   "metadata": {},
   "outputs": [],
   "source": [
    "plt.figure(figsize=(10, 6))\n",
    "plt.barh(top_donors['name'], top_donors['amount'], color='skyblue')\n",
    "plt.xlabel('Total Donation Amount')\n",
    "plt.ylabel('Donor Name')\n",
    "plt.title('Top 10 Donors by Total Amount')\n",
    "plt.gca().invert_yaxis()\n",
    "plt.savefig('top_10_donor.png'm bbix)"
   ]
  }
 ],
 "metadata": {
  "kernelspec": {
   "display_name": "Python [conda env:base] *",
   "language": "python",
   "name": "conda-base-py"
  },
  "language_info": {
   "codemirror_mode": {
    "name": "ipython",
    "version": 3
   },
   "file_extension": ".py",
   "mimetype": "text/x-python",
   "name": "python",
   "nbconvert_exporter": "python",
   "pygments_lexer": "ipython3",
   "version": "3.12.7"
  }
 },
 "nbformat": 4,
 "nbformat_minor": 5
}
